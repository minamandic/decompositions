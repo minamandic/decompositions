{
 "cells": [
  {
   "cell_type": "code",
   "execution_count": 16,
   "id": "f801724c",
   "metadata": {},
   "outputs": [
    {
     "name": "stdout",
     "output_type": "stream",
     "text": [
      "TBB path: C:\\Users\\minam\\anaconda3\\lib\\site-packages\\tbb\\__init__.py\n",
      "Directory does not exist: C:\\Users\\minam\\anaconda3\\lib\\site-packages\\tbb\n"
     ]
    },
    {
     "name": "stderr",
     "output_type": "stream",
     "text": [
      "  % Total    % Received % Xferd  Average Speed   Time    Time     Time  Current\n",
      "                                 Dload  Upload   Total   Spent    Left  Speed\n",
      "\n",
      "  0     0    0     0    0     0      0      0 --:--:-- --:--:-- --:--:--     0\n",
      "100 2224k  100 2224k    0     0  3515k      0 --:--:-- --:--:-- --:--:-- 3519k\n"
     ]
    },
    {
     "name": "stdout",
     "output_type": "stream",
     "text": [
      "Collecting pip\n",
      "  Downloading pip-24.1.2-py3-none-any.whl.metadata (3.6 kB)\n",
      "Collecting setuptools\n",
      "  Downloading setuptools-70.3.0-py3-none-any.whl.metadata (5.8 kB)\n",
      "Collecting wheel\n",
      "  Downloading wheel-0.43.0-py3-none-any.whl.metadata (2.2 kB)\n",
      "Downloading pip-24.1.2-py3-none-any.whl (1.8 MB)\n",
      "   ---------------------------------------- 1.8/1.8 MB 5.8 MB/s eta 0:00:00\n",
      "Downloading setuptools-70.3.0-py3-none-any.whl (931 kB)\n",
      "   ---------------------------------------- 931.1/931.1 kB 4.5 MB/s eta 0:00:00\n",
      "Downloading wheel-0.43.0-py3-none-any.whl (65 kB)\n",
      "   ---------------------------------------- 65.8/65.8 kB 3.5 MB/s eta 0:00:00\n",
      "Installing collected packages: wheel, setuptools, pip\n",
      "Successfully installed pip-24.1.2 setuptools-70.3.0 wheel-0.43.0\n",
      "Collecting torch\n",
      "  Downloading torch-2.3.1-cp39-cp39-win_amd64.whl.metadata (26 kB)\n",
      "Collecting torchvision\n",
      "  Downloading torchvision-0.18.1-cp39-cp39-win_amd64.whl.metadata (6.6 kB)\n",
      "Collecting torchaudio\n",
      "  Downloading torchaudio-2.3.1-cp39-cp39-win_amd64.whl.metadata (6.4 kB)\n",
      "Collecting filelock (from torch)\n",
      "  Downloading filelock-3.15.4-py3-none-any.whl.metadata (2.9 kB)\n",
      "Collecting typing-extensions>=4.8.0 (from torch)\n",
      "  Downloading typing_extensions-4.12.2-py3-none-any.whl.metadata (3.0 kB)\n",
      "Collecting sympy (from torch)\n",
      "  Downloading sympy-1.13.0-py3-none-any.whl.metadata (12 kB)\n",
      "Collecting networkx (from torch)\n",
      "  Downloading networkx-3.2.1-py3-none-any.whl.metadata (5.2 kB)\n",
      "Collecting jinja2 (from torch)\n",
      "  Downloading jinja2-3.1.4-py3-none-any.whl.metadata (2.6 kB)\n",
      "Collecting fsspec (from torch)\n",
      "  Downloading fsspec-2024.6.1-py3-none-any.whl.metadata (11 kB)\n",
      "Collecting mkl<=2021.4.0,>=2021.1.1 (from torch)\n",
      "  Downloading mkl-2021.4.0-py2.py3-none-win_amd64.whl.metadata (1.4 kB)\n",
      "Collecting numpy (from torchvision)\n",
      "  Downloading numpy-2.0.0-cp39-cp39-win_amd64.whl.metadata (60 kB)\n",
      "     ---------------------------------------- 60.9/60.9 kB 1.6 MB/s eta 0:00:00\n",
      "Collecting pillow!=8.3.*,>=5.3.0 (from torchvision)\n",
      "  Downloading pillow-10.4.0-cp39-cp39-win_amd64.whl.metadata (9.3 kB)\n",
      "Collecting intel-openmp==2021.* (from mkl<=2021.4.0,>=2021.1.1->torch)\n",
      "  Downloading intel_openmp-2021.4.0-py2.py3-none-win_amd64.whl.metadata (1.2 kB)\n",
      "Collecting tbb==2021.* (from mkl<=2021.4.0,>=2021.1.1->torch)\n",
      "  Downloading tbb-2021.13.0-py3-none-win_amd64.whl.metadata (1.1 kB)\n",
      "Collecting MarkupSafe>=2.0 (from jinja2->torch)\n",
      "  Downloading MarkupSafe-2.1.5-cp39-cp39-win_amd64.whl.metadata (3.1 kB)\n",
      "Collecting mpmath<1.4,>=1.1.0 (from sympy->torch)\n",
      "  Downloading mpmath-1.3.0-py3-none-any.whl.metadata (8.6 kB)\n",
      "Downloading torch-2.3.1-cp39-cp39-win_amd64.whl (159.7 MB)\n",
      "   ---------------------------------------- 159.7/159.7 MB 3.3 MB/s eta 0:00:00\n",
      "Downloading torchvision-0.18.1-cp39-cp39-win_amd64.whl (1.2 MB)\n",
      "   ---------------------------------------- 1.2/1.2 MB 4.7 MB/s eta 0:00:00\n",
      "Downloading torchaudio-2.3.1-cp39-cp39-win_amd64.whl (2.4 MB)\n",
      "   ---------------------------------------- 2.4/2.4 MB 4.7 MB/s eta 0:00:00\n",
      "Downloading mkl-2021.4.0-py2.py3-none-win_amd64.whl (228.5 MB)\n",
      "   ---------------------------------------- 228.5/228.5 MB 2.5 MB/s eta 0:00:00\n",
      "Downloading intel_openmp-2021.4.0-py2.py3-none-win_amd64.whl (3.5 MB)\n",
      "   ---------------------------------------- 3.5/3.5 MB 5.5 MB/s eta 0:00:00\n",
      "Downloading tbb-2021.13.0-py3-none-win_amd64.whl (286 kB)\n",
      "   ---------------------------------------- 286.9/286.9 kB 3.0 MB/s eta 0:00:00\n",
      "Downloading pillow-10.4.0-cp39-cp39-win_amd64.whl (2.6 MB)\n",
      "   ---------------------------------------- 2.6/2.6 MB 3.9 MB/s eta 0:00:00\n",
      "Downloading typing_extensions-4.12.2-py3-none-any.whl (37 kB)\n",
      "Downloading filelock-3.15.4-py3-none-any.whl (16 kB)\n",
      "Downloading fsspec-2024.6.1-py3-none-any.whl (177 kB)\n",
      "   ---------------------------------------- 177.6/177.6 kB 5.4 MB/s eta 0:00:00\n",
      "Downloading jinja2-3.1.4-py3-none-any.whl (133 kB)\n",
      "   ---------------------------------------- 133.3/133.3 kB 4.0 MB/s eta 0:00:00\n",
      "Downloading networkx-3.2.1-py3-none-any.whl (1.6 MB)\n",
      "   ---------------------------------------- 1.6/1.6 MB 5.5 MB/s eta 0:00:00\n",
      "Downloading numpy-2.0.0-cp39-cp39-win_amd64.whl (16.5 MB)\n",
      "   ---------------------------------------- 16.5/16.5 MB 5.0 MB/s eta 0:00:00\n",
      "Downloading sympy-1.13.0-py3-none-any.whl (6.2 MB)\n",
      "   ---------------------------------------- 6.2/6.2 MB 5.1 MB/s eta 0:00:00\n",
      "Downloading MarkupSafe-2.1.5-cp39-cp39-win_amd64.whl (17 kB)\n",
      "Downloading mpmath-1.3.0-py3-none-any.whl (536 kB)\n",
      "   ---------------------------------------- 536.2/536.2 kB 4.2 MB/s eta 0:00:00\n",
      "Installing collected packages: tbb, mpmath, intel-openmp, typing-extensions, sympy, pillow, numpy, networkx, mkl, MarkupSafe, fsspec, filelock, jinja2, torch, torchvision, torchaudio\n",
      "Successfully installed MarkupSafe-2.1.5 filelock-3.15.4 fsspec-2024.6.1 intel-openmp-2021.4.0 jinja2-3.1.4 mkl-2021.4.0 mpmath-1.3.0 networkx-3.2.1 numpy-2.0.0 pillow-10.4.0 sympy-1.13.0 tbb-2021.13.0 torch-2.3.1 torchaudio-2.3.1 torchvision-0.18.1 typing-extensions-4.12.2\n"
     ]
    }
   ],
   "source": [
    "# Step 1: Check if the TBB module exists\n",
    "try:\n",
    "    import tbb\n",
    "    tbb_path = tbb.__file__\n",
    "    print(f\"TBB path: {tbb_path}\")\n",
    "except ImportError:\n",
    "    print(\"TBB module is not installed.\")\n",
    "\n",
    "# Step 2: Remove the TBB directory if it exists\n",
    "import shutil\n",
    "import os\n",
    "\n",
    "if 'tbb_path' in locals():\n",
    "    tbb_dir = os.path.dirname(tbb_path)\n",
    "    if os.path.exists(tbb_dir):\n",
    "        print(f\"Removing directory: {tbb_dir}\")\n",
    "        shutil.rmtree(tbb_dir)\n",
    "    else:\n",
    "        print(f\"Directory does not exist: {tbb_dir}\")\n",
    "else:\n",
    "    print(\"TBB module is not installed, so no directory to remove.\")\n",
    "\n",
    "# Step 3: Install PyTorch\n",
    "!curl https://bootstrap.pypa.io/get-pip.py -o get-pip.py\n",
    "!python get-pip.py\n",
    "\n",
    "!pip install torch torchvision torchaudio"
   ]
  },
  {
   "cell_type": "code",
   "execution_count": 17,
   "id": "a0cc286b",
   "metadata": {},
   "outputs": [
    {
     "name": "stdout",
     "output_type": "stream",
     "text": [
      "How many rows do you want your matrix to have? \n",
      "2\n",
      "How many columns do you want your matrix to have? \n",
      "2\n",
      "enter the value for row 0 and column 0 : \n",
      "1\n",
      "enter the value for row 0 and column 1 : \n",
      "2\n",
      "enter the value for row 1 and column 0 : \n",
      "3\n",
      "enter the value for row 1 and column 1 : \n",
      "4\n",
      "[[1. 2.]\n",
      " [3. 4.]]\n"
     ]
    }
   ],
   "source": [
    "import numpy as np\n",
    "from scipy.linalg import svd\n",
    "import torch\n",
    "\n",
    "print(\"How many rows do you want your matrix to have? \")\n",
    "rows = input()\n",
    "print(\"How many columns do you want your matrix to have? \")\n",
    "cols = input()\n",
    "\n",
    "X = np.zeros((int(rows), int(cols)))\n",
    "for i in range(int(rows)):\n",
    "    for j in range(int(cols)):\n",
    "        print(\"enter the value for row \" +str(i)+ \" and column \" +str(j)+ \" : \")\n",
    "        X[i][j] = input()\n",
    "        \n",
    "print(X)"
   ]
  },
  {
   "cell_type": "code",
   "execution_count": 18,
   "id": "829219ec",
   "metadata": {},
   "outputs": [],
   "source": [
    "#Step 1\n",
    "\n",
    "XT = X.transpose()\n",
    "XTX = np.matmul(XT,X)"
   ]
  },
  {
   "cell_type": "code",
   "execution_count": 19,
   "id": "5bea47a4",
   "metadata": {},
   "outputs": [],
   "source": [
    "#Step 2\n",
    "\n",
    "eigenvals = np.linalg.eig(XTX)\n",
    "singular_vals = []\n",
    "for i in eigenvals[0]:\n",
    "    if i >= 0:\n",
    "        singular_vals.append(np.sqrt(i))\n",
    "    else:\n",
    "        singular_vals.append(np.sqrt(abs(i)))"
   ]
  },
  {
   "cell_type": "code",
   "execution_count": 20,
   "id": "20dfeb80",
   "metadata": {},
   "outputs": [],
   "source": [
    "#Step 3\n",
    "\n",
    "singular_vals.sort(reverse = True)\n",
    "\n",
    "count = 0\n",
    "for i in singular_vals:\n",
    "    count += 1\n",
    "sigma = np.zeros((count, count))\n",
    "\n",
    "for i in range(count):\n",
    "    sigma[i][i] = singular_vals[i]\n",
    "\n",
    "sigma_inv = np.linalg.inv(sigma)"
   ]
  },
  {
   "cell_type": "code",
   "execution_count": 21,
   "id": "a09008cb",
   "metadata": {},
   "outputs": [],
   "source": [
    "#Step 4\n",
    "\n",
    "eigenvalues, eigenvectors = np.linalg.eigh(XTX)\n",
    "sorted_indices = np.argsort(eigenvalues)[::-1]\n",
    "V = -1*eigenvectors[:, sorted_indices]\n",
    "VT = V.T"
   ]
  },
  {
   "cell_type": "code",
   "execution_count": 22,
   "id": "970e9600",
   "metadata": {},
   "outputs": [
    {
     "name": "stdout",
     "output_type": "stream",
     "text": [
      "Original Matrix After SVD:\n",
      "[[1. 2.]\n",
      " [3. 4.]]\n",
      "U:\n",
      "[[-0.40455358 -0.9145143 ]\n",
      " [-0.9145143   0.40455358]]\n",
      "Sigma:\n",
      "[[5.4649857  0.        ]\n",
      " [0.         0.36596619]]\n",
      "V Transpose:\n",
      "[[-0.57604844 -0.81741556]\n",
      " [ 0.81741556 -0.57604844]]\n"
     ]
    }
   ],
   "source": [
    "#Step 5 (U=X*V*sigma_inv)\n",
    "\n",
    "U = np.matmul(X, np.matmul(V, sigma_inv))\n",
    "A = np.matmul(U, np.matmul(sigma, VT))\n",
    "\n",
    "print(\"Original Matrix After SVD:\")\n",
    "print(A)\n",
    "print(\"U:\")\n",
    "print(U)\n",
    "print(\"Sigma:\")\n",
    "print(sigma)\n",
    "print(\"V Transpose:\")\n",
    "print(VT)"
   ]
  },
  {
   "cell_type": "code",
   "execution_count": 23,
   "id": "fd687e9d",
   "metadata": {},
   "outputs": [],
   "source": [
    "def SVD(X):\n",
    "    XT = X.transpose()\n",
    "    XTX = np.matmul(XT,X)\n",
    "    \n",
    "    eigenvals = np.linalg.eig(XTX)\n",
    "    singular_vals = []\n",
    "    for i in eigenvals[0]:\n",
    "        if i >= 0:\n",
    "            singular_vals.append(np.sqrt(i))\n",
    "        else:\n",
    "            singular_vals.append(np.sqrt(abs(i)))\n",
    "            \n",
    "    singular_vals.sort(reverse = True)\n",
    "\n",
    "    count = 0\n",
    "    for i in singular_vals:\n",
    "        count += 1\n",
    "    sigma = np.zeros((count, count))\n",
    "\n",
    "    for i in range(count):\n",
    "        sigma[i][i] = singular_vals[i]\n",
    "\n",
    "    sigma_inv = np.linalg.inv(sigma)\n",
    "    \n",
    "    eigenvalues, eigenvectors = np.linalg.eigh(XTX)\n",
    "    sorted_indices = np.argsort(eigenvalues)[::-1]\n",
    "    V = -1*eigenvectors[:, sorted_indices]\n",
    "    VT = V.T\n",
    "    \n",
    "    U = np.matmul(X, np.matmul(V, sigma_inv))\n",
    "    A = np.matmul(U, np.matmul(sigma, VT))\n",
    "    #check answers using svd function\n",
    "    \n",
    "    return U, sigma, VT"
   ]
  },
  {
   "cell_type": "code",
   "execution_count": 31,
   "id": "dcb99b0a",
   "metadata": {},
   "outputs": [],
   "source": [
    "'''\n",
    "This is a program that computes the Tucker Decomposition of an \n",
    "order-3 tensor using the Higher-Order Orthogonal Iteration \n",
    "Algorithm (HOOI) and the SVD program above.\n",
    "Params: A (original tensor)\n",
    "Returns: L, R, V (order matrices), B (core tensor)\n",
    "'''\n",
    "\n",
    "def Tucker(A):\n",
    "    R = A[0]\n",
    "    V = A[1]\n",
    "    RT = R.transpose()\n",
    "    VT = V.T\n",
    "    C = torch.mul(A, torch.mul(RT, VT))\n",
    "    L = SVD(C[0])\n",
    "    LT = L.T\n",
    "    D = torch.mul(A, torch.mul(LT, VT))\n",
    "    R = SVD(D[1])\n",
    "    E = torch.mul(A, torch.mul(LT, RT))\n",
    "    V = SVD(E[2])\n",
    "    B = torch.mul(E, VT)\n",
    "    return B"
   ]
  },
  {
   "cell_type": "code",
   "execution_count": 32,
   "id": "5702bb4d",
   "metadata": {},
   "outputs": [
    {
     "ename": "AttributeError",
     "evalue": "'list' object has no attribute 'transpose'",
     "output_type": "error",
     "traceback": [
      "\u001b[1;31m---------------------------------------------------------------------------\u001b[0m",
      "\u001b[1;31mAttributeError\u001b[0m                            Traceback (most recent call last)",
      "Input \u001b[1;32mIn [32]\u001b[0m, in \u001b[0;36m<cell line: 2>\u001b[1;34m()\u001b[0m\n\u001b[0;32m      1\u001b[0m A \u001b[38;5;241m=\u001b[39m [[[\u001b[38;5;241m1\u001b[39m,\u001b[38;5;241m2\u001b[39m,\u001b[38;5;241m3\u001b[39m],[\u001b[38;5;241m4\u001b[39m,\u001b[38;5;241m5\u001b[39m,\u001b[38;5;241m6\u001b[39m],[\u001b[38;5;241m7\u001b[39m,\u001b[38;5;241m8\u001b[39m,\u001b[38;5;241m9\u001b[39m]],[[\u001b[38;5;241m1\u001b[39m,\u001b[38;5;241m2\u001b[39m,\u001b[38;5;241m3\u001b[39m],[\u001b[38;5;241m4\u001b[39m,\u001b[38;5;241m5\u001b[39m,\u001b[38;5;241m6\u001b[39m],[\u001b[38;5;241m7\u001b[39m,\u001b[38;5;241m8\u001b[39m,\u001b[38;5;241m9\u001b[39m]]]\n\u001b[1;32m----> 2\u001b[0m B \u001b[38;5;241m=\u001b[39m \u001b[43mTucker\u001b[49m\u001b[43m(\u001b[49m\u001b[43mA\u001b[49m\u001b[43m)\u001b[49m\n\u001b[0;32m      3\u001b[0m \u001b[38;5;28mprint\u001b[39m(B)\n",
      "Input \u001b[1;32mIn [31]\u001b[0m, in \u001b[0;36mTucker\u001b[1;34m(A)\u001b[0m\n\u001b[0;32m     10\u001b[0m R \u001b[38;5;241m=\u001b[39m A[\u001b[38;5;241m0\u001b[39m]\n\u001b[0;32m     11\u001b[0m V \u001b[38;5;241m=\u001b[39m A[\u001b[38;5;241m1\u001b[39m]\n\u001b[1;32m---> 12\u001b[0m RT \u001b[38;5;241m=\u001b[39m \u001b[43mR\u001b[49m\u001b[38;5;241;43m.\u001b[39;49m\u001b[43mtranspose\u001b[49m()\n\u001b[0;32m     13\u001b[0m VT \u001b[38;5;241m=\u001b[39m V\u001b[38;5;241m.\u001b[39mT\n\u001b[0;32m     14\u001b[0m C \u001b[38;5;241m=\u001b[39m torch\u001b[38;5;241m.\u001b[39mmul(A, torch\u001b[38;5;241m.\u001b[39mmul(RT, VT))\n",
      "\u001b[1;31mAttributeError\u001b[0m: 'list' object has no attribute 'transpose'"
     ]
    }
   ],
   "source": [
    "A = [[[1,2,3],[4,5,6],[7,8,9]],[[1,2,3],[4,5,6],[7,8,9]]]\n",
    "B = Tucker(A)\n",
    "print(B)"
   ]
  },
  {
   "cell_type": "code",
   "execution_count": null,
   "id": "e871f201",
   "metadata": {},
   "outputs": [],
   "source": []
  }
 ],
 "metadata": {
  "kernelspec": {
   "display_name": "Python 3 (ipykernel)",
   "language": "python",
   "name": "python3"
  },
  "language_info": {
   "codemirror_mode": {
    "name": "ipython",
    "version": 3
   },
   "file_extension": ".py",
   "mimetype": "text/x-python",
   "name": "python",
   "nbconvert_exporter": "python",
   "pygments_lexer": "ipython3",
   "version": "3.9.12"
  }
 },
 "nbformat": 4,
 "nbformat_minor": 5
}
